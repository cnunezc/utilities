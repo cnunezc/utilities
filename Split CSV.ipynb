{
 "cells": [
  {
   "cell_type": "code",
   "execution_count": 5,
   "metadata": {},
   "outputs": [],
   "source": [
    "csvfile = open('movie_ids.csv', 'r').readlines()\n",
    "filename = 1\n",
    "for i in range(len(csvfile)):\n",
    "    if i % 10000 == 0:\n",
    "        open(str(filename) + '.csv', 'w+').writelines(csvfile[i:i+10000])\n",
    "        filename += 1"
   ]
  },
  {
   "cell_type": "code",
   "execution_count": 6,
   "metadata": {},
   "outputs": [],
   "source": [
    "import pandas as pd\n",
    "filename = 2\n",
    "for i in range(1, 72):\n",
    "    df = pd.read_csv('bla/' + str(filename) + \".csv\", header=None)\n",
    "    df.to_csv(str(filename) + \"_new.csv\", header=['id'], index=False)\n",
    "    filename += 1"
   ]
  },
  {
   "cell_type": "code",
   "execution_count": null,
   "metadata": {},
   "outputs": [],
   "source": []
  }
 ],
 "metadata": {
  "kernelspec": {
   "display_name": "Python 3",
   "language": "python",
   "name": "python3"
  },
  "language_info": {
   "codemirror_mode": {
    "name": "ipython",
    "version": 3
   },
   "file_extension": ".py",
   "mimetype": "text/x-python",
   "name": "python",
   "nbconvert_exporter": "python",
   "pygments_lexer": "ipython3",
   "version": "3.8.5"
  }
 },
 "nbformat": 4,
 "nbformat_minor": 4
}
